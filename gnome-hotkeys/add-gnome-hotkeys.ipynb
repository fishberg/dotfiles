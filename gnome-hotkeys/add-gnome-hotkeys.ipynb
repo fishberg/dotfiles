{
 "cells": [
  {
   "cell_type": "code",
   "execution_count": null,
   "id": "1bc63aa8-89f5-4b33-8c07-6ece88b38ca5",
   "metadata": {},
   "outputs": [],
   "source": [
    "import subprocess\n",
    "import re\n",
    "import pandas as pd\n",
    "import shlex\n",
    "import os\n",
    "from datetime import datetime\n",
    "import io\n",
    "import sys"
   ]
  },
  {
   "cell_type": "code",
   "execution_count": null,
   "id": "d449321c-8c85-4360-ae0b-639ffc7dfbb3",
   "metadata": {},
   "outputs": [],
   "source": [
    "# Reference:\n",
    "# https://askubuntu.com/questions/487206/dconf-change-a-string-key\n",
    "\n",
    "# Example Commands:\n",
    "\n",
    "# dconf read /org/gnome/settings-daemon/plugins/media-keys/custom-keybindings/custom0/binding\n",
    "# dconf read /org/gnome/settings-daemon/plugins/media-keys/custom-keybindings/custom0/command\n",
    "# dconf read /org/gnome/settings-daemon/plugins/media-keys/custom-keybindings/custom0/name\n",
    "\n",
    "# dconf write /org/gnome/settings-daemon/plugins/media-keys/custom-keybindings/custom0/name \"'Terminal'\"\n",
    "\n",
    "# gsettings set org.gnome.desktop.wm.keybindings close  \"['<Alt>F4', '<Shift><Super>q']\"\n",
    "\n",
    "# gsettings get org.gnome.settings-daemon.plugins.media-keys custom-keybindings"
   ]
  },
  {
   "cell_type": "code",
   "execution_count": null,
   "id": "ca6292fc-2e7a-4981-84bb-ed058abb924f",
   "metadata": {},
   "outputs": [],
   "source": [
    "def dconf_list():\n",
    "    dconf_cmd = 'dconf list /org/gnome/settings-daemon/plugins/media-keys/custom-keybindings/'\n",
    "    dconf_res = subprocess.check_output(shlex.split(dconf_cmd),universal_newlines=True)\n",
    "    dconf_lst = re.findall('custom\\d+', dconf_res)\n",
    "    dconf_lst.sort()\n",
    "    return dconf_lst"
   ]
  },
  {
   "cell_type": "code",
   "execution_count": null,
   "id": "676c0471-a74e-4271-a082-2f47ba2eac1f",
   "metadata": {},
   "outputs": [],
   "source": [
    "def dconf_confirm(key):\n",
    "    dconf_cmd = f'dconf list /org/gnome/settings-daemon/plugins/media-keys/custom-keybindings/{key}/'\n",
    "    dconf_res = subprocess.check_output(shlex.split(dconf_cmd),universal_newlines=True)\n",
    "    dconf_lst = dconf_res.strip().split('\\n')\n",
    "    assert dconf_lst == ['binding', 'command', 'name'], f'unexpected fields from result of: {dconf_cmd}'"
   ]
  },
  {
   "cell_type": "code",
   "execution_count": null,
   "id": "f3047ec6-1923-4004-897d-25a560743334",
   "metadata": {},
   "outputs": [],
   "source": [
    "def dconf_read(key,field):\n",
    "    dconf_cmd = f'dconf read /org/gnome/settings-daemon/plugins/media-keys/custom-keybindings/{key}/{field}'\n",
    "    dconf_res = subprocess.check_output(shlex.split(dconf_cmd),universal_newlines=True)\n",
    "    dconf_res = dconf_res.strip()\n",
    "    #print(dconf_res)\n",
    "    assert (dconf_res[0] == \"'\") and (dconf_res[-1] == \"'\"), f'{dconf_cmd}-> {dconf_res}'\n",
    "    return dconf_res[1:-1]"
   ]
  },
  {
   "cell_type": "code",
   "execution_count": null,
   "id": "2dabcfa2-6a16-4c1c-9e94-b3cbf46fcfca",
   "metadata": {},
   "outputs": [],
   "source": [
    "def dconf_entry(key):\n",
    "    dconf_confirm(key)\n",
    "    home = os.path.expandvars('$HOME')\n",
    "    key_num = int(key.replace('custom',''))\n",
    "    name = dconf_read(key,'name')\n",
    "    # replace $HOME with ~ while processing\n",
    "    command = dconf_read(key,'command').replace(home,'~')\n",
    "    binding = dconf_read(key,'binding')\n",
    "    return key_num, key, name, command, binding"
   ]
  },
  {
   "cell_type": "code",
   "execution_count": null,
   "id": "176236f6-aa98-4e65-bf47-1508a9c6a709",
   "metadata": {},
   "outputs": [],
   "source": [
    "def dconf_to_df():\n",
    "    data = []\n",
    "    names = dconf_list()\n",
    "    for name in names:\n",
    "        data.append(list(dconf_entry(name)))\n",
    "    FIELDS = ['key_num', 'key', 'name','command','binding']\n",
    "    df = pd.DataFrame(data,columns=FIELDS)\n",
    "    df = df.set_index('key_num').sort_index()\n",
    "    return df   "
   ]
  },
  {
   "cell_type": "code",
   "execution_count": null,
   "id": "9ae0bb27-9ed8-4d2f-a3ea-a3f96e7aaef2",
   "metadata": {},
   "outputs": [],
   "source": [
    "def df_append_entry(df,name,command,binding):    \n",
    "    # see if gap in key_num (i.e., customX)\n",
    "    key_num_set = set(df.index)\n",
    "    range_set = set(range(len(df.index)))\n",
    "    diff_set = key_num_set - range_set\n",
    "    \n",
    "    # if no gap, set to next number, otherwise use first gap\n",
    "    if diff_set == set([]):    \n",
    "        key_num = len(df)\n",
    "    else:\n",
    "        key_num = list(diff_set)[0]\n",
    "    key = f'custom{key_num}'\n",
    "    \n",
    "    # append key\n",
    "    df.loc[key_num] = [key,name,command,binding]\n",
    "    df = df.sort_index()\n",
    "    return df"
   ]
  },
  {
   "cell_type": "code",
   "execution_count": null,
   "id": "b8d98729-7642-4414-86c9-56dde533f9bf",
   "metadata": {},
   "outputs": [],
   "source": [
    "def df_append_entry_if_unique(df,name,command,binding):\n",
    "    if name not in list(df['name']):\n",
    "        df = df_append_entry(df,name,command,binding)\n",
    "        print(f'adding new entry for: {name}')\n",
    "    else:\n",
    "        print(f'skipping entry, detected entry with same name: {name}')\n",
    "    return df"
   ]
  },
  {
   "cell_type": "code",
   "execution_count": null,
   "id": "7a1cf26a-fd11-4dea-817b-479846fb419b",
   "metadata": {},
   "outputs": [],
   "source": [
    "def dconf_reset():\n",
    "    dconf_cmd = 'dconf reset -f /org/gnome/settings-daemon/plugins/media-keys/custom-keybindings/'\n",
    "    dconf_res = subprocess.check_output(shlex.split(dconf_cmd),universal_newlines=True)"
   ]
  },
  {
   "cell_type": "code",
   "execution_count": null,
   "id": "6f07ba12-285f-4554-bec1-c625b40dd1f3",
   "metadata": {},
   "outputs": [],
   "source": [
    "def dconf_write(key,field,value):\n",
    "    dconf_cmd = f'dconf write /org/gnome/settings-daemon/plugins/media-keys/custom-keybindings/{key}/{field} \"\\'{value}\\'\"'\n",
    "    dconf_res = subprocess.check_output(shlex.split(dconf_cmd),universal_newlines=True)"
   ]
  },
  {
   "cell_type": "code",
   "execution_count": null,
   "id": "42f1c3d7-dfab-40f6-8512-0dc21eb000e4",
   "metadata": {},
   "outputs": [],
   "source": [
    "def df_to_dconf(df):\n",
    "    dconf_reset()\n",
    "    \n",
    "    home = os.path.expandvars('$HOME')\n",
    "    \n",
    "    for row in df.iloc:\n",
    "        key,name,command,binding = tuple(row)\n",
    "        # expand ~, since dconf needs absolute paths\n",
    "        command = command.replace('~',home)\n",
    "        \n",
    "        dconf_write(key,'name',name)\n",
    "        dconf_write(key,'command',command)\n",
    "        dconf_write(key,'binding',binding)    "
   ]
  },
  {
   "cell_type": "code",
   "execution_count": null,
   "id": "3dc7080f-b026-4068-83cf-03f4806214c6",
   "metadata": {},
   "outputs": [],
   "source": [
    "def gsettings_get():\n",
    "    gsettings_cmd = 'gsettings get org.gnome.settings-daemon.plugins.media-keys custom-keybindings'\n",
    "    gsettings_res = subprocess.check_output(shlex.split(gsettings_cmd),universal_newlines=True)\n",
    "    return gsettings_res"
   ]
  },
  {
   "cell_type": "code",
   "execution_count": null,
   "id": "7ea24037-246a-4690-84b8-f93afba601dd",
   "metadata": {},
   "outputs": [],
   "source": [
    "def gsettings_list():\n",
    "    gsettings_res = gsettings_get()\n",
    "    gsettings_lst = re.findall('custom\\d+', gsettings_res)\n",
    "    #gsettings_lst.sort()\n",
    "    return gsettings_lst"
   ]
  },
  {
   "cell_type": "code",
   "execution_count": null,
   "id": "b1b7ca85-a118-4a3c-b52c-4fc612e139cc",
   "metadata": {},
   "outputs": [],
   "source": [
    "def gsettings_set(df):\n",
    "    value = '[' + ', '.join([f\"'/org/gnome/settings-daemon/plugins/media-keys/custom-keybindings/{key}/'\" for key in list(df['key'])]) + ']'\n",
    "    gsettings_cmd = f'gsettings set org.gnome.settings-daemon.plugins.media-keys custom-keybindings \"{value}\"'\n",
    "    #print(gsettings_cmd)\n",
    "    gsettings_res = subprocess.check_output(shlex.split(gsettings_cmd),universal_newlines=True)"
   ]
  },
  {
   "cell_type": "code",
   "execution_count": null,
   "id": "c77b68da-77fa-450a-8130-c7f57b81dd58",
   "metadata": {},
   "outputs": [],
   "source": [
    "# hotkey_csv\n",
    "JUPYTER_ARGS = 'hotkeys.csv'"
   ]
  },
  {
   "cell_type": "code",
   "execution_count": null,
   "id": "f20b707b-852c-444c-82ec-f9102a1f1aa7",
   "metadata": {},
   "outputs": [],
   "source": [
    "import argparse\n",
    "parser = argparse.ArgumentParser()\n",
    "parser.add_argument('hotkey_csv', type=str,help='csv config script to apply')\n",
    "parser.add_argument('--overwrite',default=False,action='store_true',help='force overwrites current GNOME hotkeys')\n",
    "\n",
    "IN_NOTEBOOK = 'get_ipython' in globals()\n",
    "IN_TERMINAL = not IN_NOTEBOOK\n",
    "\n",
    "if IN_NOTEBOOK:\n",
    "    args = parser.parse_args(JUPYTER_ARGS.split(' ')) # call from notebook\n",
    "else:\n",
    "    args = parser.parse_args() # call from command line\n",
    "    JUPYTER_ARGS = ' '.join(sys.argv[1:])"
   ]
  },
  {
   "cell_type": "code",
   "execution_count": null,
   "id": "2991e835-5aeb-4700-9c81-2d32ea399611",
   "metadata": {},
   "outputs": [],
   "source": [
    "HOTKEY_CSV = args.hotkey_csv\n",
    "OVERWRITE = args.overwrite"
   ]
  },
  {
   "cell_type": "code",
   "execution_count": null,
   "id": "e206ba8a-78aa-4991-ada9-afa99c2814d0",
   "metadata": {},
   "outputs": [],
   "source": [
    "df = dconf_to_df()\n",
    "df"
   ]
  },
  {
   "cell_type": "code",
   "execution_count": null,
   "id": "ba15de29-b285-447b-9bcd-f4952d40631a",
   "metadata": {},
   "outputs": [],
   "source": [
    "assert set(df['key']) == set(gsettings_list()), 'dconf and gsettings do not match before editing'"
   ]
  },
  {
   "cell_type": "code",
   "execution_count": null,
   "id": "556ffa28-b59b-4ba6-b471-4f6434277608",
   "metadata": {},
   "outputs": [],
   "source": [
    "# backup current config\n",
    "timestamp = datetime.now().strftime(\"%Y-%m-%d-%H-%M-%S\")\n",
    "df.to_csv(f'backup/{timestamp}_hotkeys.csv',index=False)"
   ]
  },
  {
   "cell_type": "code",
   "execution_count": null,
   "id": "b32ff222-b4af-4724-bb6e-0f40753180bf",
   "metadata": {},
   "outputs": [],
   "source": [
    "with open(HOTKEY_CSV) as READ:\n",
    "    str_csv = READ.read()\n",
    "\n",
    "# remove comments\n",
    "comments = re.findall('#.*\\n', str_csv)\n",
    "for comment in comments:\n",
    "    str_csv = str_csv.replace(comment,'\\n')\n",
    "\n",
    "# remove multi-lines\n",
    "multilines = sorted(re.findall('\\n\\n+',str_csv),key=len,reverse=True)\n",
    "for multiline in multilines:\n",
    "    str_csv = str_csv.replace(multiline,'\\n')\n",
    "\n",
    "# remove trailing space\n",
    "spaces = re.findall(' +\\n',str_csv)\n",
    "for space in spaces:\n",
    "    str_csv = str_csv.replace(space,'\\n')"
   ]
  },
  {
   "cell_type": "code",
   "execution_count": null,
   "id": "43744dba-18bf-4313-abf0-e32a3eb72305",
   "metadata": {},
   "outputs": [],
   "source": [
    "# load hotkey config\n",
    "df_ = pd.read_csv(io.StringIO(str_csv))\n",
    "\n",
    "# expands ~ and variables (i.e., $DOTFILES_ROOT) in config\n",
    "df_['command'] = df_['command'].map(lambda x: os.path.expanduser(x)).map(lambda x: os.path.expandvars(x))\n",
    "df_"
   ]
  },
  {
   "cell_type": "code",
   "execution_count": null,
   "id": "985a4df9-f14a-4279-a84f-049c1162f5aa",
   "metadata": {},
   "outputs": [],
   "source": [
    "# if OVERWRITE, clear df\n",
    "if OVERWRITE:\n",
    "    df = df.drop(df.index)\n",
    "\n",
    "# append unique entries\n",
    "for row in df_.iloc:\n",
    "    name,command,binding = tuple(row)\n",
    "    df = df_append_entry_if_unique(df,name,command,binding)\n",
    "df"
   ]
  },
  {
   "cell_type": "code",
   "execution_count": null,
   "id": "e4d26c21-3024-4f50-ab5a-a962d21e2060",
   "metadata": {},
   "outputs": [],
   "source": [
    "# write and check\n",
    "df_to_dconf(df)\n",
    "gsettings_set(df)\n",
    "assert set(df['key']) == set(gsettings_list()), 'dconf and gsettings do not match after editing'"
   ]
  },
  {
   "cell_type": "code",
   "execution_count": null,
   "id": "0bab0649-7416-410c-bd0f-0a7aa69e092e",
   "metadata": {},
   "outputs": [],
   "source": [
    "print('success')"
   ]
  },
  {
   "cell_type": "code",
   "execution_count": null,
   "id": "f3660a9f-613b-487e-b83f-894ee7aa51b5",
   "metadata": {},
   "outputs": [],
   "source": []
  }
 ],
 "metadata": {
  "kernelspec": {
   "display_name": "Python 3 (ipykernel)",
   "language": "python",
   "name": "python3"
  },
  "language_info": {
   "codemirror_mode": {
    "name": "ipython",
    "version": 3
   },
   "file_extension": ".py",
   "mimetype": "text/x-python",
   "name": "python",
   "nbconvert_exporter": "python",
   "pygments_lexer": "ipython3",
   "version": "3.8.10"
  }
 },
 "nbformat": 4,
 "nbformat_minor": 5
}
