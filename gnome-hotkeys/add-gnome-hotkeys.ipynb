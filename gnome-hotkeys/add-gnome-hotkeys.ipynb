{
 "cells": [
  {
   "cell_type": "code",
   "execution_count": null,
   "id": "0",
   "metadata": {},
   "outputs": [],
   "source": [
    "import subprocess\n",
    "import re\n",
    "import pandas as pd\n",
    "import shlex\n",
    "import os\n",
    "from datetime import datetime\n",
    "import io\n",
    "import sys"
   ]
  },
  {
   "cell_type": "code",
   "execution_count": null,
   "id": "1",
   "metadata": {},
   "outputs": [],
   "source": [
    "# Reference:\n",
    "# https://askubuntu.com/questions/487206/dconf-change-a-string-key\n",
    "\n",
    "# Example Commands:\n",
    "\n",
    "# dconf read /org/gnome/settings-daemon/plugins/media-keys/custom-keybindings/custom0/binding\n",
    "# dconf read /org/gnome/settings-daemon/plugins/media-keys/custom-keybindings/custom0/command\n",
    "# dconf read /org/gnome/settings-daemon/plugins/media-keys/custom-keybindings/custom0/name\n",
    "\n",
    "# dconf write /org/gnome/settings-daemon/plugins/media-keys/custom-keybindings/custom0/name \"'Terminal'\"\n",
    "\n",
    "# gsettings set org.gnome.desktop.wm.keybindings close  \"['<Alt>F4', '<Shift><Super>q']\"\n",
    "# gsettings set org.gnome.shell.keybindings toggle-message-tray \"['<Super>v']\" # removes <Super>m default\n",
    "# gsettings set org.gnome.shell.keybindings focus-active-notification \"[]\" # removes <Super>n default\n",
    "\n",
    "# gsettings get org.gnome.settings-daemon.plugins.media-keys custom-keybindings\n",
    "\n",
    "# Search for commands set by GUI (i.e., \"View split on left\"):\n",
    "# $ gsettings list-recursively | grep '<Super>Left'\n",
    "# org.gnome.mutter.keybindings toggle-tiled-left ['<Super>Left']\n",
    "\n",
    "# gsettings set org.gnome.mutter.keybindings toggle-tiled-left \"['<Super>Left']\"\n",
    "# gsettings set org.gnome.mutter.keybindings toggle-tiled-right \"['<Super>Right']\""
   ]
  },
  {
   "cell_type": "code",
   "execution_count": null,
   "id": "2",
   "metadata": {},
   "outputs": [],
   "source": [
    "def dconf_list():\n",
    "    dconf_cmd = 'dconf list /org/gnome/settings-daemon/plugins/media-keys/custom-keybindings/'\n",
    "    dconf_res = subprocess.check_output(shlex.split(dconf_cmd),universal_newlines=True)\n",
    "    dconf_lst = re.findall(r'custom\\d+', dconf_res)\n",
    "    dconf_lst.sort()\n",
    "    return dconf_lst"
   ]
  },
  {
   "cell_type": "code",
   "execution_count": null,
   "id": "3",
   "metadata": {},
   "outputs": [],
   "source": [
    "def dconf_confirm(key):\n",
    "    dconf_cmd = f'dconf list /org/gnome/settings-daemon/plugins/media-keys/custom-keybindings/{key}/'\n",
    "    dconf_res = subprocess.check_output(shlex.split(dconf_cmd),universal_newlines=True)\n",
    "    dconf_lst = dconf_res.strip().split('\\n')\n",
    "    assert dconf_lst == ['binding', 'command', 'name'], f'unexpected fields from result of: {dconf_cmd}'"
   ]
  },
  {
   "cell_type": "code",
   "execution_count": null,
   "id": "4",
   "metadata": {},
   "outputs": [],
   "source": [
    "def dconf_read(key,field):\n",
    "    dconf_cmd = f'dconf read /org/gnome/settings-daemon/plugins/media-keys/custom-keybindings/{key}/{field}'\n",
    "    dconf_res = subprocess.check_output(shlex.split(dconf_cmd),universal_newlines=True)\n",
    "    dconf_res = dconf_res.strip()\n",
    "    #print(dconf_res)\n",
    "    assert (dconf_res[0] == \"'\") and (dconf_res[-1] == \"'\"), f'{dconf_cmd}-> {dconf_res}'\n",
    "    return dconf_res[1:-1]"
   ]
  },
  {
   "cell_type": "code",
   "execution_count": null,
   "id": "5",
   "metadata": {},
   "outputs": [],
   "source": [
    "def dconf_entry(key):\n",
    "    dconf_confirm(key)\n",
    "    home = os.path.expandvars('$HOME')\n",
    "    key_num = int(key.replace('custom',''))\n",
    "    name = dconf_read(key,'name')\n",
    "    # replace $HOME with ~ while processing\n",
    "    command = dconf_read(key,'command').replace(home,'~')\n",
    "    binding = dconf_read(key,'binding')\n",
    "    return key_num, key, name, command, binding"
   ]
  },
  {
   "cell_type": "code",
   "execution_count": null,
   "id": "6",
   "metadata": {},
   "outputs": [],
   "source": [
    "def dconf_to_df():\n",
    "    data = []\n",
    "    names = dconf_list()\n",
    "    for name in names:\n",
    "        data.append(list(dconf_entry(name)))\n",
    "    FIELDS = ['key_num', 'key', 'name','command','binding']\n",
    "    df = pd.DataFrame(data,columns=FIELDS)\n",
    "    df = df.set_index('key_num').sort_index()\n",
    "    return df   "
   ]
  },
  {
   "cell_type": "code",
   "execution_count": null,
   "id": "7",
   "metadata": {},
   "outputs": [],
   "source": [
    "def df_append_entry(df,name,command,binding):    \n",
    "    # see if gap in key_num (i.e., customX)\n",
    "    key_num_set = set(df.index)\n",
    "    range_set = set(range(len(df.index)))\n",
    "    diff_set = key_num_set - range_set\n",
    "    \n",
    "    # if no gap, set to next number, otherwise use first gap\n",
    "    if diff_set == set([]):    \n",
    "        key_num = len(df)\n",
    "    else:\n",
    "        key_num = list(diff_set)[0]\n",
    "    key = f'custom{key_num}'\n",
    "    \n",
    "    # append key\n",
    "    df.loc[key_num] = [key,name,command,binding]\n",
    "    df = df.sort_index()\n",
    "    return df"
   ]
  },
  {
   "cell_type": "code",
   "execution_count": null,
   "id": "8",
   "metadata": {},
   "outputs": [],
   "source": [
    "def df_append_entry_if_unique(df,name,command,binding):\n",
    "    if name not in list(df['name']):\n",
    "        df = df_append_entry(df,name,command,binding)\n",
    "        print(f'adding new entry for: {name}')\n",
    "    else:\n",
    "        print(f'skipping entry, detected entry with same name: {name}')\n",
    "    return df"
   ]
  },
  {
   "cell_type": "code",
   "execution_count": null,
   "id": "9",
   "metadata": {},
   "outputs": [],
   "source": [
    "def dconf_reset():\n",
    "    dconf_cmd = 'dconf reset -f /org/gnome/settings-daemon/plugins/media-keys/custom-keybindings/'\n",
    "    dconf_res = subprocess.check_output(shlex.split(dconf_cmd),universal_newlines=True)"
   ]
  },
  {
   "cell_type": "code",
   "execution_count": null,
   "id": "10",
   "metadata": {},
   "outputs": [],
   "source": [
    "def dconf_write(key,field,value):\n",
    "    dconf_cmd = f'dconf write /org/gnome/settings-daemon/plugins/media-keys/custom-keybindings/{key}/{field} \"\\'{value}\\'\"'\n",
    "    dconf_res = subprocess.check_output(shlex.split(dconf_cmd),universal_newlines=True)"
   ]
  },
  {
   "cell_type": "code",
   "execution_count": null,
   "id": "11",
   "metadata": {},
   "outputs": [],
   "source": [
    "def df_to_dconf(df):\n",
    "    dconf_reset()\n",
    "    \n",
    "    home = os.path.expandvars('$HOME')\n",
    "    \n",
    "    for row in df.iloc:\n",
    "        key,name,command,binding = tuple(row)\n",
    "        # expand ~, since dconf needs absolute paths\n",
    "        command = command.replace('~',home)\n",
    "        \n",
    "        dconf_write(key,'name',name)\n",
    "        dconf_write(key,'command',command)\n",
    "        dconf_write(key,'binding',binding)    "
   ]
  },
  {
   "cell_type": "code",
   "execution_count": null,
   "id": "12",
   "metadata": {},
   "outputs": [],
   "source": [
    "def gsettings_get():\n",
    "    gsettings_cmd = 'gsettings get org.gnome.settings-daemon.plugins.media-keys custom-keybindings'\n",
    "    gsettings_res = subprocess.check_output(shlex.split(gsettings_cmd),universal_newlines=True)\n",
    "    return gsettings_res"
   ]
  },
  {
   "cell_type": "code",
   "execution_count": null,
   "id": "13",
   "metadata": {},
   "outputs": [],
   "source": [
    "def gsettings_list():\n",
    "    gsettings_res = gsettings_get()\n",
    "    gsettings_lst = re.findall(r'custom\\d+', gsettings_res)\n",
    "    #gsettings_lst.sort()\n",
    "    return gsettings_lst"
   ]
  },
  {
   "cell_type": "code",
   "execution_count": null,
   "id": "14",
   "metadata": {},
   "outputs": [],
   "source": [
    "def gsettings_set(df):\n",
    "    value = '[' + ', '.join([f\"'/org/gnome/settings-daemon/plugins/media-keys/custom-keybindings/{key}/'\" for key in list(df['key'])]) + ']'\n",
    "    gsettings_cmd = f'gsettings set org.gnome.settings-daemon.plugins.media-keys custom-keybindings \"{value}\"'\n",
    "    #print(gsettings_cmd)\n",
    "    gsettings_res = subprocess.check_output(shlex.split(gsettings_cmd),universal_newlines=True)"
   ]
  },
  {
   "cell_type": "code",
   "execution_count": null,
   "id": "15",
   "metadata": {},
   "outputs": [],
   "source": [
    "# hotkey_csv\n",
    "JUPYTER_ARGS = 'configs/general-hotkeys.csv'"
   ]
  },
  {
   "cell_type": "code",
   "execution_count": null,
   "id": "16",
   "metadata": {},
   "outputs": [],
   "source": [
    "import argparse\n",
    "parser = argparse.ArgumentParser()\n",
    "parser.add_argument('hotkey_csv', type=str,help='csv config script to apply')\n",
    "parser.add_argument('--overwrite',default=False,action='store_true',help='force overwrites current GNOME hotkeys')\n",
    "\n",
    "IN_NOTEBOOK = 'get_ipython' in globals()\n",
    "IN_TERMINAL = not IN_NOTEBOOK\n",
    "\n",
    "if IN_NOTEBOOK:\n",
    "    args = parser.parse_args(JUPYTER_ARGS.split(' ')) # call from notebook\n",
    "else:\n",
    "    args = parser.parse_args() # call from command line\n",
    "    JUPYTER_ARGS = ' '.join(sys.argv[1:])"
   ]
  },
  {
   "cell_type": "code",
   "execution_count": null,
   "id": "17",
   "metadata": {},
   "outputs": [],
   "source": [
    "HOTKEY_CSV = args.hotkey_csv\n",
    "OVERWRITE = args.overwrite"
   ]
  },
  {
   "cell_type": "code",
   "execution_count": null,
   "id": "18",
   "metadata": {},
   "outputs": [],
   "source": [
    "df = dconf_to_df()\n",
    "df"
   ]
  },
  {
   "cell_type": "code",
   "execution_count": null,
   "id": "19",
   "metadata": {},
   "outputs": [],
   "source": [
    "assert set(df['key']) == set(gsettings_list()), 'dconf and gsettings do not match before editing'"
   ]
  },
  {
   "cell_type": "code",
   "execution_count": null,
   "id": "20",
   "metadata": {},
   "outputs": [],
   "source": [
    "# backup current config\n",
    "timestamp = datetime.now().strftime(\"%Y-%m-%d-%H-%M-%S\")\n",
    "df.to_csv(f'backup/{timestamp}_hotkeys.csv',index=False)"
   ]
  },
  {
   "cell_type": "code",
   "execution_count": null,
   "id": "21",
   "metadata": {},
   "outputs": [],
   "source": [
    "with open(HOTKEY_CSV) as READ:\n",
    "    str_csv = READ.read()\n",
    "\n",
    "# remove comments\n",
    "comments = re.findall('#.*\\n', str_csv)\n",
    "for comment in comments:\n",
    "    str_csv = str_csv.replace(comment,'\\n')\n",
    "\n",
    "# remove multi-lines\n",
    "multilines = sorted(re.findall('\\n\\n+',str_csv),key=len,reverse=True)\n",
    "for multiline in multilines:\n",
    "    str_csv = str_csv.replace(multiline,'\\n')\n",
    "\n",
    "# remove trailing space\n",
    "spaces = re.findall(' +\\n',str_csv)\n",
    "for space in spaces:\n",
    "    str_csv = str_csv.replace(space,'\\n')"
   ]
  },
  {
   "cell_type": "code",
   "execution_count": null,
   "id": "22",
   "metadata": {},
   "outputs": [],
   "source": [
    "# load hotkey config\n",
    "df_ = pd.read_csv(io.StringIO(str_csv))\n",
    "\n",
    "# expands ~ and variables (i.e., $DOTFILES_ROOT) in config\n",
    "df_['command'] = df_['command'].map(lambda x: os.path.expanduser(x)).map(lambda x: os.path.expandvars(x))\n",
    "df_"
   ]
  },
  {
   "cell_type": "code",
   "execution_count": null,
   "id": "23",
   "metadata": {},
   "outputs": [],
   "source": [
    "# if OVERWRITE, clear df\n",
    "if OVERWRITE:\n",
    "    df = df.drop(df.index)\n",
    "\n",
    "# append unique entries\n",
    "for row in df_.iloc:\n",
    "    name,command,binding = tuple(row)\n",
    "    df = df_append_entry_if_unique(df,name,command,binding)\n",
    "df"
   ]
  },
  {
   "cell_type": "code",
   "execution_count": null,
   "id": "24",
   "metadata": {},
   "outputs": [],
   "source": [
    "# write and check\n",
    "df_to_dconf(df)\n",
    "gsettings_set(df)\n",
    "assert set(df['key']) == set(gsettings_list()), 'dconf and gsettings do not match after editing'"
   ]
  },
  {
   "cell_type": "code",
   "execution_count": null,
   "id": "25",
   "metadata": {},
   "outputs": [],
   "source": [
    "print('success')"
   ]
  },
  {
   "cell_type": "code",
   "execution_count": null,
   "id": "dd455033",
   "metadata": {},
   "outputs": [],
   "source": [
    "gsettings_list()"
   ]
  },
  {
   "cell_type": "code",
   "execution_count": null,
   "id": "26",
   "metadata": {},
   "outputs": [],
   "source": [
    "dconf_list()"
   ]
  },
  {
   "cell_type": "code",
   "execution_count": null,
   "id": "3321b1c3",
   "metadata": {},
   "outputs": [],
   "source": []
  }
 ],
 "metadata": {
  "kernelspec": {
   "display_name": "base",
   "language": "python",
   "name": "python3"
  },
  "language_info": {
   "codemirror_mode": {
    "name": "ipython",
    "version": 3
   },
   "file_extension": ".py",
   "mimetype": "text/x-python",
   "name": "python",
   "nbconvert_exporter": "python",
   "pygments_lexer": "ipython3",
   "version": "3.12.9"
  }
 },
 "nbformat": 4,
 "nbformat_minor": 5
}
